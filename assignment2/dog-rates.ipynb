{
 "cells": [
  {
   "cell_type": "code",
   "execution_count": 1,
   "id": "d750e4d0",
   "metadata": {},
   "outputs": [],
   "source": [
    "import numpy as np\n",
    "import pandas as pd\n",
    "import matplotlib.pyplot as plt\n",
    "import re\n",
    "from scipy.stats import linregress\n",
    "from datetime import datetime"
   ]
  },
  {
   "cell_type": "code",
   "execution_count": 2,
   "id": "a86dd5ba",
   "metadata": {},
   "outputs": [
    {
     "name": "stdout",
     "output_type": "stream",
     "text": [
      "                       id           created_at  \\\n",
      "0      994677639364403200  2018-05-10 20:36:44   \n",
      "1      994364904978239488  2018-05-09 23:54:02   \n",
      "2      994363623421153280  2018-05-09 23:48:56   \n",
      "3      994336722875047936  2018-05-09 22:02:03   \n",
      "4      994024065982717952  2018-05-09 01:19:40   \n",
      "...                   ...                  ...   \n",
      "8510  1027980978910687233  2018-08-10 18:12:18   \n",
      "8511  1027976875811819520  2018-08-10 17:56:00   \n",
      "8512  1027970381766963202  2018-08-10 17:30:12   \n",
      "8513  1027967697684815873  2018-08-10 17:19:32   \n",
      "8514  1027963039029452800  2018-08-10 17:01:01   \n",
      "\n",
      "                                                   text  \n",
      "0                  @Steff88979267 tell them to h*ck off  \n",
      "1                             @NFLOwnerGBP take it back  \n",
      "2     This is Louie. He has misplaced his Cheerio. W...  \n",
      "3                                   @rachaellanaghan ❤️  \n",
      "4     This is Captain Jack Wobbles. He is currently ...  \n",
      "...                                                 ...  \n",
      "8510  @GregWWoods thanks for donating $10.00 to @dog...  \n",
      "8511  @DiannaC thanks for donating $10.00 to @dog_ra...  \n",
      "8512  @runnjen @livelikeroo @Goodworld omg Justice y...  \n",
      "8513  @shelbymorganart thanks for donating $10.00 to...  \n",
      "8514  @xo_taylernicole thanks for donating to @dog_r...  \n",
      "\n",
      "[8515 rows x 3 columns]\n"
     ]
    }
   ],
   "source": [
    "#Loading data from CSV into a DataFrame\n",
    "data = pd.read_csv(\"dog_rates_tweets.csv\", parse_dates = True)\n",
    "print(data)"
   ]
  },
  {
   "cell_type": "markdown",
   "id": "fa100694",
   "metadata": {},
   "source": [
    "We are mostly interested in the created_at and text columns. The regular expression for $n$/10 is given below:"
   ]
  },
  {
   "cell_type": "code",
   "execution_count": 3,
   "id": "68fe69c9",
   "metadata": {},
   "outputs": [],
   "source": [
    "reExpression = r'(\\d+(\\.\\d+)?)/10'"
   ]
  },
  {
   "cell_type": "code",
   "execution_count": 4,
   "id": "8fdfa606",
   "metadata": {},
   "outputs": [
    {
     "name": "stdout",
     "output_type": "stream",
     "text": [
      "        0    1\n",
      "0     NaN  NaN\n",
      "1     NaN  NaN\n",
      "2      14  NaN\n",
      "3     NaN  NaN\n",
      "4     NaN  NaN\n",
      "...   ...  ...\n",
      "8510  NaN  NaN\n",
      "8511  NaN  NaN\n",
      "8512  NaN  NaN\n",
      "8513  NaN  NaN\n",
      "8514  NaN  NaN\n",
      "\n",
      "[8515 rows x 2 columns]\n"
     ]
    }
   ],
   "source": [
    "ratings = pd.Series(data['text']).str.extract(reExpression)\n",
    "print(ratings)"
   ]
  },
  {
   "cell_type": "markdown",
   "id": "e7915773",
   "metadata": {},
   "source": [
    "The first column has the ratings. Tweets with no ratings have a NaN value."
   ]
  },
  {
   "cell_type": "code",
   "execution_count": 5,
   "id": "61c31b96",
   "metadata": {},
   "outputs": [
    {
     "name": "stdout",
     "output_type": "stream",
     "text": [
      "0       NaN\n",
      "1       NaN\n",
      "2        14\n",
      "3       NaN\n",
      "4       NaN\n",
      "       ... \n",
      "8510    NaN\n",
      "8511    NaN\n",
      "8512    NaN\n",
      "8513    NaN\n",
      "8514    NaN\n",
      "Name: rating, Length: 8515, dtype: object\n"
     ]
    }
   ],
   "source": [
    "#Appending the ratings column to the data\n",
    "data['rating'] = data['text'].str.extract(reExpression)[0]\n",
    "print(data['rating'])"
   ]
  },
  {
   "cell_type": "code",
   "execution_count": 6,
   "id": "757dc852",
   "metadata": {},
   "outputs": [
    {
     "name": "stdout",
     "output_type": "stream",
     "text": [
      "                       id           created_at  \\\n",
      "2      994363623421153280  2018-05-09 23:48:56   \n",
      "7      993889039714578432  2018-05-08 16:23:07   \n",
      "8      993629544463642624  2018-05-07 23:11:58   \n",
      "24     992198572664860672  2018-05-04 00:25:48   \n",
      "30     991744041351090177  2018-05-02 18:19:39   \n",
      "...                   ...                  ...   \n",
      "7363  1032725635888803841  2018-08-23 20:25:53   \n",
      "7369  1032310288652152832  2018-08-22 16:55:26   \n",
      "7381  1031696422813544448  2018-08-21 00:16:09   \n",
      "7431  1029767403545288706  2018-08-15 16:30:55   \n",
      "7433  1029550934408486912  2018-08-15 02:10:45   \n",
      "\n",
      "                                                   text rating  \n",
      "2     This is Louie. He has misplaced his Cheerio. W...     14  \n",
      "7     This is Manny. He hasn’t seen your croissant. ...     13  \n",
      "8     This is Libby. She leap. 14/10\\n(IG: libbythef...     14  \n",
      "24    This is Rosie. She thought Coachella was this ...     13  \n",
      "30    This is Riley. He’ll be your chauffeur this ev...     13  \n",
      "...                                                 ...    ...  \n",
      "7363  This is Noodles. He had brain surgery earlier ...     14  \n",
      "7369  This is Pingo and Nina. They are believed to b...     14  \n",
      "7381  This is Nikita. She got caught in some wild fl...     13  \n",
      "7431  This is Winston. He came home for the first ti...     14  \n",
      "7433  RT @dog_rates: Here's a doggo realizing you ca...     13  \n",
      "\n",
      "[1675 rows x 4 columns]\n"
     ]
    }
   ],
   "source": [
    "#Dropping any rows with NaN rating\n",
    "dataWithRatings = data.dropna(how=\"any\")\n",
    "print(dataWithRatings)"
   ]
  },
  {
   "cell_type": "code",
   "execution_count": 7,
   "id": "e6a48c7e",
   "metadata": {
    "scrolled": false
   },
   "outputs": [
    {
     "name": "stdout",
     "output_type": "stream",
     "text": [
      "                       id          created_at  \\\n",
      "2      994363623421153280 2018-05-09 23:48:56   \n",
      "7      993889039714578432 2018-05-08 16:23:07   \n",
      "8      993629544463642624 2018-05-07 23:11:58   \n",
      "24     992198572664860672 2018-05-04 00:25:48   \n",
      "30     991744041351090177 2018-05-02 18:19:39   \n",
      "...                   ...                 ...   \n",
      "7363  1032725635888803841 2018-08-23 20:25:53   \n",
      "7369  1032310288652152832 2018-08-22 16:55:26   \n",
      "7381  1031696422813544448 2018-08-21 00:16:09   \n",
      "7431  1029767403545288706 2018-08-15 16:30:55   \n",
      "7433  1029550934408486912 2018-08-15 02:10:45   \n",
      "\n",
      "                                                   text  rating  \n",
      "2     This is Louie. He has misplaced his Cheerio. W...    14.0  \n",
      "7     This is Manny. He hasn’t seen your croissant. ...    13.0  \n",
      "8     This is Libby. She leap. 14/10\\n(IG: libbythef...    14.0  \n",
      "24    This is Rosie. She thought Coachella was this ...    13.0  \n",
      "30    This is Riley. He’ll be your chauffeur this ev...    13.0  \n",
      "...                                                 ...     ...  \n",
      "7363  This is Noodles. He had brain surgery earlier ...    14.0  \n",
      "7369  This is Pingo and Nina. They are believed to b...    14.0  \n",
      "7381  This is Nikita. She got caught in some wild fl...    13.0  \n",
      "7431  This is Winston. He came home for the first ti...    14.0  \n",
      "7433  RT @dog_rates: Here's a doggo realizing you ca...    13.0  \n",
      "\n",
      "[1669 rows x 4 columns]\n"
     ]
    },
    {
     "name": "stderr",
     "output_type": "stream",
     "text": [
      "/tmp/ipykernel_113/1925712841.py:2: SettingWithCopyWarning: \n",
      "A value is trying to be set on a copy of a slice from a DataFrame.\n",
      "Try using .loc[row_indexer,col_indexer] = value instead\n",
      "\n",
      "See the caveats in the documentation: https://pandas.pydata.org/pandas-docs/stable/user_guide/indexing.html#returning-a-view-versus-a-copy\n",
      "  dataWithRatings['rating'] = dataWithRatings['rating'].apply(float)\n"
     ]
    }
   ],
   "source": [
    "#Convert ratings from string to float\n",
    "dataWithRatings['rating'] = dataWithRatings['rating'].apply(float)\n",
    "#Dropping any rows with ratings higher than 25\n",
    "dataWithRatings = dataWithRatings[dataWithRatings['rating'] < 26]\n",
    "#Changing created_at object type to datetiem\n",
    "dataWithRatings['created_at'] = pd.to_datetime(dataWithRatings['created_at'])\n",
    "print(dataWithRatings)"
   ]
  },
  {
   "cell_type": "code",
   "execution_count": 8,
   "id": "6f560875",
   "metadata": {},
   "outputs": [],
   "source": [
    "dataWithRatings['timestamp'] = dataWithRatings['created_at'].apply(datetime.timestamp)"
   ]
  },
  {
   "cell_type": "code",
   "execution_count": 9,
   "id": "8e5cf9a1",
   "metadata": {},
   "outputs": [],
   "source": [
    "model = linregress(dataWithRatings['timestamp'], dataWithRatings['rating'])"
   ]
  },
  {
   "cell_type": "markdown",
   "id": "a8d0c508",
   "metadata": {},
   "source": [
    "## Ratings time series"
   ]
  },
  {
   "cell_type": "code",
   "execution_count": 10,
   "id": "f694aff0",
   "metadata": {},
   "outputs": [],
   "source": [
    "prediction = model[0] * dataWithRatings['timestamp'] +  model[1]\n",
    "dataWithRatings['prediction'] = prediction"
   ]
  },
  {
   "cell_type": "code",
   "execution_count": 11,
   "id": "f0e956a9",
   "metadata": {},
   "outputs": [
    {
     "data": {
      "text/html": [
       "<div>\n",
       "<style scoped>\n",
       "    .dataframe tbody tr th:only-of-type {\n",
       "        vertical-align: middle;\n",
       "    }\n",
       "\n",
       "    .dataframe tbody tr th {\n",
       "        vertical-align: top;\n",
       "    }\n",
       "\n",
       "    .dataframe thead th {\n",
       "        text-align: right;\n",
       "    }\n",
       "</style>\n",
       "<table border=\"1\" class=\"dataframe\">\n",
       "  <thead>\n",
       "    <tr style=\"text-align: right;\">\n",
       "      <th></th>\n",
       "      <th>id</th>\n",
       "      <th>created_at</th>\n",
       "      <th>text</th>\n",
       "      <th>rating</th>\n",
       "      <th>timestamp</th>\n",
       "      <th>prediction</th>\n",
       "    </tr>\n",
       "  </thead>\n",
       "  <tbody>\n",
       "    <tr>\n",
       "      <th>2</th>\n",
       "      <td>994363623421153280</td>\n",
       "      <td>2018-05-09 23:48:56</td>\n",
       "      <td>This is Louie. He has misplaced his Cheerio. W...</td>\n",
       "      <td>14.0</td>\n",
       "      <td>1.525910e+09</td>\n",
       "      <td>13.185763</td>\n",
       "    </tr>\n",
       "    <tr>\n",
       "      <th>7</th>\n",
       "      <td>993889039714578432</td>\n",
       "      <td>2018-05-08 16:23:07</td>\n",
       "      <td>This is Manny. He hasn’t seen your croissant. ...</td>\n",
       "      <td>13.0</td>\n",
       "      <td>1.525797e+09</td>\n",
       "      <td>13.181785</td>\n",
       "    </tr>\n",
       "    <tr>\n",
       "      <th>8</th>\n",
       "      <td>993629544463642624</td>\n",
       "      <td>2018-05-07 23:11:58</td>\n",
       "      <td>This is Libby. She leap. 14/10\\n(IG: libbythef...</td>\n",
       "      <td>14.0</td>\n",
       "      <td>1.525735e+09</td>\n",
       "      <td>13.179609</td>\n",
       "    </tr>\n",
       "    <tr>\n",
       "      <th>24</th>\n",
       "      <td>992198572664860672</td>\n",
       "      <td>2018-05-04 00:25:48</td>\n",
       "      <td>This is Rosie. She thought Coachella was this ...</td>\n",
       "      <td>13.0</td>\n",
       "      <td>1.525394e+09</td>\n",
       "      <td>13.167614</td>\n",
       "    </tr>\n",
       "    <tr>\n",
       "      <th>30</th>\n",
       "      <td>991744041351090177</td>\n",
       "      <td>2018-05-02 18:19:39</td>\n",
       "      <td>This is Riley. He’ll be your chauffeur this ev...</td>\n",
       "      <td>13.0</td>\n",
       "      <td>1.525285e+09</td>\n",
       "      <td>13.163804</td>\n",
       "    </tr>\n",
       "    <tr>\n",
       "      <th>...</th>\n",
       "      <td>...</td>\n",
       "      <td>...</td>\n",
       "      <td>...</td>\n",
       "      <td>...</td>\n",
       "      <td>...</td>\n",
       "      <td>...</td>\n",
       "    </tr>\n",
       "    <tr>\n",
       "      <th>7363</th>\n",
       "      <td>1032725635888803841</td>\n",
       "      <td>2018-08-23 20:25:53</td>\n",
       "      <td>This is Noodles. He had brain surgery earlier ...</td>\n",
       "      <td>14.0</td>\n",
       "      <td>1.535056e+09</td>\n",
       "      <td>13.507338</td>\n",
       "    </tr>\n",
       "    <tr>\n",
       "      <th>7369</th>\n",
       "      <td>1032310288652152832</td>\n",
       "      <td>2018-08-22 16:55:26</td>\n",
       "      <td>This is Pingo and Nina. They are believed to b...</td>\n",
       "      <td>14.0</td>\n",
       "      <td>1.534957e+09</td>\n",
       "      <td>13.503856</td>\n",
       "    </tr>\n",
       "    <tr>\n",
       "      <th>7381</th>\n",
       "      <td>1031696422813544448</td>\n",
       "      <td>2018-08-21 00:16:09</td>\n",
       "      <td>This is Nikita. She got caught in some wild fl...</td>\n",
       "      <td>13.0</td>\n",
       "      <td>1.534811e+09</td>\n",
       "      <td>13.498710</td>\n",
       "    </tr>\n",
       "    <tr>\n",
       "      <th>7431</th>\n",
       "      <td>1029767403545288706</td>\n",
       "      <td>2018-08-15 16:30:55</td>\n",
       "      <td>This is Winston. He came home for the first ti...</td>\n",
       "      <td>14.0</td>\n",
       "      <td>1.534351e+09</td>\n",
       "      <td>13.482540</td>\n",
       "    </tr>\n",
       "    <tr>\n",
       "      <th>7433</th>\n",
       "      <td>1029550934408486912</td>\n",
       "      <td>2018-08-15 02:10:45</td>\n",
       "      <td>RT @dog_rates: Here's a doggo realizing you ca...</td>\n",
       "      <td>13.0</td>\n",
       "      <td>1.534299e+09</td>\n",
       "      <td>13.480725</td>\n",
       "    </tr>\n",
       "  </tbody>\n",
       "</table>\n",
       "<p>1669 rows × 6 columns</p>\n",
       "</div>"
      ],
      "text/plain": [
       "                       id          created_at  \\\n",
       "2      994363623421153280 2018-05-09 23:48:56   \n",
       "7      993889039714578432 2018-05-08 16:23:07   \n",
       "8      993629544463642624 2018-05-07 23:11:58   \n",
       "24     992198572664860672 2018-05-04 00:25:48   \n",
       "30     991744041351090177 2018-05-02 18:19:39   \n",
       "...                   ...                 ...   \n",
       "7363  1032725635888803841 2018-08-23 20:25:53   \n",
       "7369  1032310288652152832 2018-08-22 16:55:26   \n",
       "7381  1031696422813544448 2018-08-21 00:16:09   \n",
       "7431  1029767403545288706 2018-08-15 16:30:55   \n",
       "7433  1029550934408486912 2018-08-15 02:10:45   \n",
       "\n",
       "                                                   text  rating     timestamp  \\\n",
       "2     This is Louie. He has misplaced his Cheerio. W...    14.0  1.525910e+09   \n",
       "7     This is Manny. He hasn’t seen your croissant. ...    13.0  1.525797e+09   \n",
       "8     This is Libby. She leap. 14/10\\n(IG: libbythef...    14.0  1.525735e+09   \n",
       "24    This is Rosie. She thought Coachella was this ...    13.0  1.525394e+09   \n",
       "30    This is Riley. He’ll be your chauffeur this ev...    13.0  1.525285e+09   \n",
       "...                                                 ...     ...           ...   \n",
       "7363  This is Noodles. He had brain surgery earlier ...    14.0  1.535056e+09   \n",
       "7369  This is Pingo and Nina. They are believed to b...    14.0  1.534957e+09   \n",
       "7381  This is Nikita. She got caught in some wild fl...    13.0  1.534811e+09   \n",
       "7431  This is Winston. He came home for the first ti...    14.0  1.534351e+09   \n",
       "7433  RT @dog_rates: Here's a doggo realizing you ca...    13.0  1.534299e+09   \n",
       "\n",
       "      prediction  \n",
       "2      13.185763  \n",
       "7      13.181785  \n",
       "8      13.179609  \n",
       "24     13.167614  \n",
       "30     13.163804  \n",
       "...          ...  \n",
       "7363   13.507338  \n",
       "7369   13.503856  \n",
       "7381   13.498710  \n",
       "7431   13.482540  \n",
       "7433   13.480725  \n",
       "\n",
       "[1669 rows x 6 columns]"
      ]
     },
     "execution_count": 11,
     "metadata": {},
     "output_type": "execute_result"
    }
   ],
   "source": [
    "dataWithRatings"
   ]
  },
  {
   "cell_type": "code",
   "execution_count": 12,
   "id": "11bf956c",
   "metadata": {},
   "outputs": [
    {
     "data": {
      "text/plain": [
       "(3.515929974847721e-08, -40.46415480898916)"
      ]
     },
     "execution_count": 12,
     "metadata": {},
     "output_type": "execute_result"
    }
   ],
   "source": [
    "model.slope, model.intercept"
   ]
  },
  {
   "cell_type": "code",
   "execution_count": 13,
   "id": "a129fc11",
   "metadata": {},
   "outputs": [
    {
     "data": {
      "image/png": "[encoded data removed]",
      "text/plain": [
       "<Figure size 864x504 with 1 Axes>"
      ]
     },
     "metadata": {
      "needs_background": "light"
     },
     "output_type": "display_data"
    }
   ],
   "source": [
    "plt.figure(figsize=(12,7))\n",
    "plt.plot(dataWithRatings['created_at'], dataWithRatings['rating'], 'b.', label='Ratings', alpha=0.5)\n",
    "plt.plot(dataWithRatings['created_at'], prediction, 'r-', linewidth=3, label = \"Trend\")\n",
    "plt.xticks(rotation=25)\n",
    "plt.xlabel(\"Date of Rating\", size = 'x-large')\n",
    "plt.ylabel(\"Rating out of 10\", size = 'x-large')\n",
    "plt.title(\"WeRateDogs dog ratings, Jan 2016 - Jun 2019\", size = 'x-large')\n",
    "plt.axhline(y=10, color='black', linestyle='--', linewidth = 2)\n",
    "plt.legend()\n",
    "plt.show()"
   ]
  }
 ],
 "metadata": {
  "kernelspec": {
   "display_name": "Python 3 (ipykernel)",
   "language": "python",
   "name": "python3"
  },
  "language_info": {
   "codemirror_mode": {
    "name": "ipython",
    "version": 3
   },
   "file_extension": ".py",
   "mimetype": "text/x-python",
   "name": "python",
   "nbconvert_exporter": "python",
   "pygments_lexer": "ipython3",
   "version": "3.9.7"
  }
 },
 "nbformat": 4,
 "nbformat_minor": 5
}
