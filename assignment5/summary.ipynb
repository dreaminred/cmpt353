{
 "cells": [
  {
   "cell_type": "code",
   "execution_count": null,
   "metadata": {
    "collapsed": true,
    "pycharm": {
     "is_executing": true
    }
   },
   "outputs": [],
   "source": [
    "import numpy as np\n",
    "import pandas as pd\n",
    "import glob\n",
    "from matplotlib import pyplot as plt"
   ]
  },
  {
   "cell_type": "code",
   "execution_count": null,
   "outputs": [],
   "source": [
    "files = glob.glob('*.csv')\n",
    "df = pd.DataFrame()"
   ],
   "metadata": {
    "collapsed": false
   }
  },
  {
   "cell_type": "code",
   "execution_count": null,
   "outputs": [],
   "source": [
    "def print_summary(fileName):\n",
    "    df = pd.read_csv(fileName)\n",
    "\n",
    "    plt.figure(figsize=(12,5))\n",
    "\n",
    "    plt.subplot(1,2,1)\n",
    "\n",
    "    plt.style.use('seaborn-deep')\n",
    "\n",
    "\n",
    "    n1, bins1, patches1 = plt.hist(df['x'],bins='auto',edgecolor='black', alpha=0.5, label='x');\n",
    "    plt.hist(df['y'],bins=bins1,edgecolor='black', alpha=0.5, label='y');\n",
    "\n",
    "    plt.legend()\n",
    "\n",
    "    plt.subplot(1,2,2)\n",
    "\n",
    "    plt.scatter(df['x'],df['y'])\n",
    "    plt.xlabel('x')\n",
    "    plt.ylabel('y')\n",
    "\n",
    "\n",
    "    plt.show()\n",
    "\n",
    "    print(f\"Dataset x mean: {df['x'].mean():.2f}\")\n",
    "    print(f\"Dataset y mean: {df['y'].mean():.2f}\")\n",
    "\n",
    "    print(f\"Dataset x stdev.: {df['x'].std():.2f}\")\n",
    "    print(f\"Dataset y stdev.: {df['y'].std():.2f}\")\n",
    "\n",
    "    print(f\"Dataset x range (min-max).: ({df['x'].min():.2f}) - ({df['x'].max():.2f})\")\n",
    "    print(f\"Dataset y range (min-max).: ({df['y'].min():.2f}) - ({df['y'].max():.2f})\")\n",
    "\n",
    "\n",
    "    print(f\"Correlation coefficient (r) between x and y: {df.corr()['x']['y']:.2f}\")"
   ],
   "metadata": {
    "collapsed": false
   }
  },
  {
   "cell_type": "code",
   "execution_count": null,
   "outputs": [],
   "source": [
    "def print_summary_auto(fileName):\n",
    "    df = pd.read_csv(fileName)\n",
    "\n",
    "    plt.figure(figsize=(12,5))\n",
    "\n",
    "    plt.subplot(1,2,1)\n",
    "\n",
    "    plt.style.use('seaborn-deep')\n",
    "\n",
    "\n",
    "    n1, bins1, patches1 = plt.hist(df['x'],bins='auto',edgecolor='black', alpha=0.5, label='x');\n",
    "    plt.hist(df['y'],bins='auto',edgecolor='black', alpha=0.5, label='y');\n",
    "\n",
    "    plt.legend()\n",
    "\n",
    "    plt.subplot(1,2,2)\n",
    "\n",
    "    plt.scatter(df['x'],df['y'])\n",
    "    plt.xlabel('x')\n",
    "    plt.ylabel('y')\n",
    "\n",
    "\n",
    "    plt.show()\n",
    "\n",
    "    print(f\"Dataset x mean: {df['x'].mean():.2f}\")\n",
    "    print(f\"Dataset y mean: {df['y'].mean():.2f}\")\n",
    "\n",
    "    print(f\"Dataset x stdev.: {df['x'].std():.2f}\")\n",
    "    print(f\"Dataset y stdev.: {df['y'].std():.2f}\")\n",
    "\n",
    "    print(f\"Dataset x range (min-max).: ({df['x'].min():.2f}) - ({df['x'].max():.2f})\")\n",
    "    print(f\"Dataset y range (min-max).: ({df['y'].min():.2f}) - ({df['y'].max():.2f})\")\n",
    "\n",
    "\n",
    "    print(f\"Correlation coefficient (r) between x and y: {df.corr()['x']['y']:.2f}\")"
   ],
   "metadata": {
    "collapsed": false
   }
  },
  {
   "cell_type": "markdown",
   "source": [
    "# Set 1"
   ],
   "metadata": {
    "collapsed": false
   }
  },
  {
   "cell_type": "code",
   "execution_count": null,
   "outputs": [],
   "source": [
    "print_summary(files[0])"
   ],
   "metadata": {
    "collapsed": false
   }
  },
  {
   "cell_type": "markdown",
   "source": [
    "The data displays a highly correlated positive linear trend with outliers located near (26,-6)."
   ],
   "metadata": {
    "collapsed": false
   }
  },
  {
   "cell_type": "markdown",
   "source": [
    "# Set 2"
   ],
   "metadata": {
    "collapsed": false
   }
  },
  {
   "cell_type": "code",
   "execution_count": null,
   "outputs": [],
   "source": [
    "print_summary(files[1])"
   ],
   "metadata": {
    "collapsed": false
   }
  },
  {
   "cell_type": "markdown",
   "source": [
    "The data display a highly correlated trend with an offset B = +6, but with more noise compared to set 1."
   ],
   "metadata": {
    "collapsed": false
   }
  },
  {
   "cell_type": "markdown",
   "source": [
    "# Set 3"
   ],
   "metadata": {
    "collapsed": false
   }
  },
  {
   "cell_type": "code",
   "execution_count": null,
   "outputs": [],
   "source": [
    "print_summary(files[2])"
   ],
   "metadata": {
    "collapsed": false
   }
  },
  {
   "cell_type": "markdown",
   "source": [
    "Plotting the coordinates and graphing them, we can see a logo of SFU."
   ],
   "metadata": {
    "collapsed": false
   }
  },
  {
   "cell_type": "markdown",
   "source": [
    "# Set 4"
   ],
   "metadata": {
    "collapsed": false
   }
  },
  {
   "cell_type": "code",
   "execution_count": null,
   "outputs": [],
   "source": [
    "print_summary_auto(files[3])"
   ],
   "metadata": {
    "collapsed": false
   }
  },
  {
   "cell_type": "markdown",
   "source": [
    "The x variable is clustered while the y variable is more continuous."
   ],
   "metadata": {
    "collapsed": false
   }
  },
  {
   "cell_type": "markdown",
   "source": [
    "# Set 5"
   ],
   "metadata": {
    "collapsed": false
   }
  },
  {
   "cell_type": "code",
   "execution_count": null,
   "outputs": [],
   "source": [
    "print_summary(files[4])"
   ],
   "metadata": {
    "collapsed": false
   }
  },
  {
   "cell_type": "markdown",
   "source": [
    "Since the mean of both variables are approximately the same, the offset $b$ of the linear trend, $y = m*x + b$, is near zero."
   ],
   "metadata": {
    "collapsed": false
   }
  }
 ],
 "metadata": {
  "kernelspec": {
   "display_name": "Python 3",
   "language": "python",
   "name": "python3"
  },
  "language_info": {
   "codemirror_mode": {
    "name": "ipython",
    "version": 2
   },
   "file_extension": ".py",
   "mimetype": "text/x-python",
   "name": "python",
   "nbconvert_exporter": "python",
   "pygments_lexer": "ipython2",
   "version": "2.7.6"
  }
 },
 "nbformat": 4,
 "nbformat_minor": 0
}
