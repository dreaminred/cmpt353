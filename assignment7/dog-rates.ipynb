{
 "cells": [
  {
   "cell_type": "code",
   "execution_count": 32,
   "id": "d750e4d0",
   "metadata": {},
   "outputs": [],
   "source": [
    "import numpy as np\n",
    "import pandas as pd\n",
    "import matplotlib.pyplot as plt\n",
    "import re\n",
    "from scipy.stats import linregress\n",
    "from datetime import datetime\n",
    "from scipy import stats"
   ]
  },
  {
   "cell_type": "code",
   "execution_count": 15,
   "id": "a86dd5ba",
   "metadata": {},
   "outputs": [
    {
     "name": "stdout",
     "output_type": "stream",
     "text": [
      "                        id                 created_at  \\\n",
      "0       994677639364403200        2018-05-10 20:36:44   \n",
      "1       994364904978239488        2018-05-09 23:54:02   \n",
      "2       994363623421153280        2018-05-09 23:48:56   \n",
      "3       994336722875047936        2018-05-09 22:02:03   \n",
      "4       994024065982717952        2018-05-09 01:19:40   \n",
      "...                    ...                        ...   \n",
      "14923  1273020398150414336  2020-06-16 22:31:29+00:00   \n",
      "14924  1273020243196235777  2020-06-16 22:30:52+00:00   \n",
      "14925  1273019594601639938  2020-06-16 22:28:17+00:00   \n",
      "14926  1272937849118011392  2020-06-16 17:03:27+00:00   \n",
      "14927  1272762231063629825  2020-06-16 05:25:37+00:00   \n",
      "\n",
      "                                                    text  \n",
      "0                   @Steff88979267 tell them to h*ck off  \n",
      "1                              @NFLOwnerGBP take it back  \n",
      "2      This is Louie. He has misplaced his Cheerio. W...  \n",
      "3                                    @rachaellanaghan ❤️  \n",
      "4      This is Captain Jack Wobbles. He is currently ...  \n",
      "...                                                  ...  \n",
      "14923       @annacroweVO wait... https://t.co/lhCKSMfpfK  \n",
      "14924  @friendlyrmndr we consulted canadians before p...  \n",
      "14925  I know it’s been a while but we still only rat...  \n",
      "14926  @Harry_Styles this is Sophie and she told me t...  \n",
      "14927                         @AlexDiLalla LET’S GOOO ❤️  \n",
      "\n",
      "[14928 rows x 3 columns]\n"
     ]
    }
   ],
   "source": [
    "#Loading data from CSV into a DataFrame\n",
    "data = pd.read_csv(\"dog_rates_tweets.csv\", parse_dates = True)\n",
    "print(data)"
   ]
  },
  {
   "cell_type": "markdown",
   "id": "fa100694",
   "metadata": {},
   "source": [
    "We are mostly interested in the created_at and text columns. The regular expression for $n$/10 is given below:"
   ]
  },
  {
   "cell_type": "code",
   "execution_count": 16,
   "id": "68fe69c9",
   "metadata": {},
   "outputs": [],
   "source": [
    "reExpression = r'(\\d+(\\.\\d+)?)/10'"
   ]
  },
  {
   "cell_type": "code",
   "execution_count": 17,
   "id": "8fdfa606",
   "metadata": {},
   "outputs": [
    {
     "name": "stdout",
     "output_type": "stream",
     "text": [
      "         0    1\n",
      "0      NaN  NaN\n",
      "1      NaN  NaN\n",
      "2       14  NaN\n",
      "3      NaN  NaN\n",
      "4      NaN  NaN\n",
      "...    ...  ...\n",
      "14923  NaN  NaN\n",
      "14924  NaN  NaN\n",
      "14925  NaN  NaN\n",
      "14926  NaN  NaN\n",
      "14927  NaN  NaN\n",
      "\n",
      "[14928 rows x 2 columns]\n"
     ]
    }
   ],
   "source": [
    "ratings = pd.Series(data['text']).str.extract(reExpression)\n",
    "print(ratings)"
   ]
  },
  {
   "cell_type": "markdown",
   "id": "e7915773",
   "metadata": {},
   "source": [
    "The first column has the ratings. Tweets with no ratings have a NaN value."
   ]
  },
  {
   "cell_type": "code",
   "execution_count": 18,
   "id": "61c31b96",
   "metadata": {},
   "outputs": [
    {
     "name": "stdout",
     "output_type": "stream",
     "text": [
      "0        NaN\n",
      "1        NaN\n",
      "2         14\n",
      "3        NaN\n",
      "4        NaN\n",
      "        ... \n",
      "14923    NaN\n",
      "14924    NaN\n",
      "14925    NaN\n",
      "14926    NaN\n",
      "14927    NaN\n",
      "Name: rating, Length: 14928, dtype: object\n"
     ]
    }
   ],
   "source": [
    "#Appending the ratings column to the data\n",
    "data['rating'] = data['text'].str.extract(reExpression)[0]\n",
    "print(data['rating'])"
   ]
  },
  {
   "cell_type": "code",
   "execution_count": 19,
   "id": "757dc852",
   "metadata": {},
   "outputs": [
    {
     "name": "stdout",
     "output_type": "stream",
     "text": [
      "                        id                 created_at  \\\n",
      "2       994363623421153280        2018-05-09 23:48:56   \n",
      "7       993889039714578432        2018-05-08 16:23:07   \n",
      "8       993629544463642624        2018-05-07 23:11:58   \n",
      "24      992198572664860672        2018-05-04 00:25:48   \n",
      "30      991744041351090177        2018-05-02 18:19:39   \n",
      "...                    ...                        ...   \n",
      "14885  1275493485085245440  2020-06-23 18:18:39+00:00   \n",
      "14895  1275102054608855040  2020-06-22 16:23:14+00:00   \n",
      "14896  1274821722584125442  2020-06-21 21:49:18+00:00   \n",
      "14906  1273774320519483392  2020-06-19 00:27:18+00:00   \n",
      "14917  1273345579829977088  2020-06-17 20:03:38+00:00   \n",
      "\n",
      "                                                    text rating  \n",
      "2      This is Louie. He has misplaced his Cheerio. W...     14  \n",
      "7      This is Manny. He hasn’t seen your croissant. ...     13  \n",
      "8      This is Libby. She leap. 14/10\\n(IG: libbythef...     14  \n",
      "24     This is Rosie. She thought Coachella was this ...     13  \n",
      "30     This is Riley. He’ll be your chauffeur this ev...     13  \n",
      "...                                                  ...    ...  \n",
      "14885  This is Ruth. She was spotted at a rally doing...     14  \n",
      "14895  This is Narcos. He is very angry with you. The...     13  \n",
      "14896  @PatrickKenneyMD omg i’d say 13/10 but i’d hat...     13  \n",
      "14906  This is Oakley. He’s on his way home for the f...     12  \n",
      "14917  Not all superheroes wear capes, but this one d...     14  \n",
      "\n",
      "[2122 rows x 4 columns]\n"
     ]
    }
   ],
   "source": [
    "#Dropping any rows with NaN rating\n",
    "dataWithRatings = data.dropna(how=\"any\")\n",
    "print(dataWithRatings)"
   ]
  },
  {
   "cell_type": "code",
   "execution_count": 20,
   "id": "e6a48c7e",
   "metadata": {
    "scrolled": false
   },
   "outputs": [
    {
     "name": "stderr",
     "output_type": "stream",
     "text": [
      "<ipython-input-20-c6b8229fafe8>:2: SettingWithCopyWarning: \n",
      "A value is trying to be set on a copy of a slice from a DataFrame.\n",
      "Try using .loc[row_indexer,col_indexer] = value instead\n",
      "\n",
      "See the caveats in the documentation: https://pandas.pydata.org/pandas-docs/stable/user_guide/indexing.html#returning-a-view-versus-a-copy\n",
      "  dataWithRatings['rating'] = dataWithRatings['rating'].apply(float)\n"
     ]
    },
    {
     "name": "stdout",
     "output_type": "stream",
     "text": [
      "                        id                 created_at  \\\n",
      "2       994363623421153280        2018-05-09 23:48:56   \n",
      "7       993889039714578432        2018-05-08 16:23:07   \n",
      "8       993629544463642624        2018-05-07 23:11:58   \n",
      "24      992198572664860672        2018-05-04 00:25:48   \n",
      "30      991744041351090177        2018-05-02 18:19:39   \n",
      "...                    ...                        ...   \n",
      "14885  1275493485085245440  2020-06-23 18:18:39+00:00   \n",
      "14895  1275102054608855040  2020-06-22 16:23:14+00:00   \n",
      "14896  1274821722584125442  2020-06-21 21:49:18+00:00   \n",
      "14906  1273774320519483392  2020-06-19 00:27:18+00:00   \n",
      "14917  1273345579829977088  2020-06-17 20:03:38+00:00   \n",
      "\n",
      "                                                    text  rating  \n",
      "2      This is Louie. He has misplaced his Cheerio. W...    14.0  \n",
      "7      This is Manny. He hasn’t seen your croissant. ...    13.0  \n",
      "8      This is Libby. She leap. 14/10\\n(IG: libbythef...    14.0  \n",
      "24     This is Rosie. She thought Coachella was this ...    13.0  \n",
      "30     This is Riley. He’ll be your chauffeur this ev...    13.0  \n",
      "...                                                  ...     ...  \n",
      "14885  This is Ruth. She was spotted at a rally doing...    14.0  \n",
      "14895  This is Narcos. He is very angry with you. The...    13.0  \n",
      "14896  @PatrickKenneyMD omg i’d say 13/10 but i’d hat...    13.0  \n",
      "14906  This is Oakley. He’s on his way home for the f...    12.0  \n",
      "14917  Not all superheroes wear capes, but this one d...    14.0  \n",
      "\n",
      "[2116 rows x 4 columns]\n"
     ]
    },
    {
     "name": "stderr",
     "output_type": "stream",
     "text": [
      "<ipython-input-20-c6b8229fafe8>:6: SettingWithCopyWarning: \n",
      "A value is trying to be set on a copy of a slice from a DataFrame.\n",
      "Try using .loc[row_indexer,col_indexer] = value instead\n",
      "\n",
      "See the caveats in the documentation: https://pandas.pydata.org/pandas-docs/stable/user_guide/indexing.html#returning-a-view-versus-a-copy\n",
      "  dataWithRatings['created_at'] = pd.to_datetime(dataWithRatings['created_at'])\n"
     ]
    }
   ],
   "source": [
    "#Convert ratings from string to float\n",
    "dataWithRatings['rating'] = dataWithRatings['rating'].apply(float)\n",
    "#Dropping any rows with ratings higher than 25\n",
    "dataWithRatings = dataWithRatings[dataWithRatings['rating'] < 26]\n",
    "#Changing created_at object type to datetiem\n",
    "dataWithRatings['created_at'] = pd.to_datetime(dataWithRatings['created_at'])\n",
    "print(dataWithRatings)"
   ]
  },
  {
   "cell_type": "code",
   "execution_count": 21,
   "id": "6f560875",
   "metadata": {},
   "outputs": [],
   "source": [
    "dataWithRatings['timestamp'] = dataWithRatings['created_at'].apply(datetime.timestamp)"
   ]
  },
  {
   "cell_type": "code",
   "execution_count": 22,
   "id": "8e5cf9a1",
   "metadata": {},
   "outputs": [],
   "source": [
    "model = linregress(dataWithRatings['timestamp'], dataWithRatings['rating'])"
   ]
  },
  {
   "cell_type": "markdown",
   "id": "a8d0c508",
   "metadata": {},
   "source": [
    "## Ratings time series"
   ]
  },
  {
   "cell_type": "code",
   "execution_count": 23,
   "id": "f694aff0",
   "metadata": {},
   "outputs": [],
   "source": [
    "prediction = model[0] * dataWithRatings['timestamp'] +  model[1]\n",
    "dataWithRatings['prediction'] = prediction"
   ]
  },
  {
   "cell_type": "code",
   "execution_count": 24,
   "id": "f0e956a9",
   "metadata": {},
   "outputs": [
    {
     "data": {
      "text/html": [
       "<div>\n",
       "<style scoped>\n",
       "    .dataframe tbody tr th:only-of-type {\n",
       "        vertical-align: middle;\n",
       "    }\n",
       "\n",
       "    .dataframe tbody tr th {\n",
       "        vertical-align: top;\n",
       "    }\n",
       "\n",
       "    .dataframe thead th {\n",
       "        text-align: right;\n",
       "    }\n",
       "</style>\n",
       "<table border=\"1\" class=\"dataframe\">\n",
       "  <thead>\n",
       "    <tr style=\"text-align: right;\">\n",
       "      <th></th>\n",
       "      <th>id</th>\n",
       "      <th>created_at</th>\n",
       "      <th>text</th>\n",
       "      <th>rating</th>\n",
       "      <th>timestamp</th>\n",
       "      <th>prediction</th>\n",
       "    </tr>\n",
       "  </thead>\n",
       "  <tbody>\n",
       "    <tr>\n",
       "      <th>2</th>\n",
       "      <td>994363623421153280</td>\n",
       "      <td>2018-05-09 23:48:56</td>\n",
       "      <td>This is Louie. He has misplaced his Cheerio. W...</td>\n",
       "      <td>14.0</td>\n",
       "      <td>1.525935e+09</td>\n",
       "      <td>12.303514</td>\n",
       "    </tr>\n",
       "    <tr>\n",
       "      <th>7</th>\n",
       "      <td>993889039714578432</td>\n",
       "      <td>2018-05-08 16:23:07</td>\n",
       "      <td>This is Manny. He hasn’t seen your croissant. ...</td>\n",
       "      <td>13.0</td>\n",
       "      <td>1.525822e+09</td>\n",
       "      <td>12.301817</td>\n",
       "    </tr>\n",
       "    <tr>\n",
       "      <th>8</th>\n",
       "      <td>993629544463642624</td>\n",
       "      <td>2018-05-07 23:11:58</td>\n",
       "      <td>This is Libby. She leap. 14/10\\n(IG: libbythef...</td>\n",
       "      <td>14.0</td>\n",
       "      <td>1.525760e+09</td>\n",
       "      <td>12.300888</td>\n",
       "    </tr>\n",
       "    <tr>\n",
       "      <th>24</th>\n",
       "      <td>992198572664860672</td>\n",
       "      <td>2018-05-04 00:25:48</td>\n",
       "      <td>This is Rosie. She thought Coachella was this ...</td>\n",
       "      <td>13.0</td>\n",
       "      <td>1.525419e+09</td>\n",
       "      <td>12.295770</td>\n",
       "    </tr>\n",
       "    <tr>\n",
       "      <th>30</th>\n",
       "      <td>991744041351090177</td>\n",
       "      <td>2018-05-02 18:19:39</td>\n",
       "      <td>This is Riley. He’ll be your chauffeur this ev...</td>\n",
       "      <td>13.0</td>\n",
       "      <td>1.525310e+09</td>\n",
       "      <td>12.294144</td>\n",
       "    </tr>\n",
       "    <tr>\n",
       "      <th>...</th>\n",
       "      <td>...</td>\n",
       "      <td>...</td>\n",
       "      <td>...</td>\n",
       "      <td>...</td>\n",
       "      <td>...</td>\n",
       "      <td>...</td>\n",
       "    </tr>\n",
       "    <tr>\n",
       "      <th>14885</th>\n",
       "      <td>1275493485085245440</td>\n",
       "      <td>2020-06-23 18:18:39+00:00</td>\n",
       "      <td>This is Ruth. She was spotted at a rally doing...</td>\n",
       "      <td>14.0</td>\n",
       "      <td>1.592936e+09</td>\n",
       "      <td>13.308733</td>\n",
       "    </tr>\n",
       "    <tr>\n",
       "      <th>14895</th>\n",
       "      <td>1275102054608855040</td>\n",
       "      <td>2020-06-22 16:23:14+00:00</td>\n",
       "      <td>This is Narcos. He is very angry with you. The...</td>\n",
       "      <td>13.0</td>\n",
       "      <td>1.592843e+09</td>\n",
       "      <td>13.307333</td>\n",
       "    </tr>\n",
       "    <tr>\n",
       "      <th>14896</th>\n",
       "      <td>1274821722584125442</td>\n",
       "      <td>2020-06-21 21:49:18+00:00</td>\n",
       "      <td>@PatrickKenneyMD omg i’d say 13/10 but i’d hat...</td>\n",
       "      <td>13.0</td>\n",
       "      <td>1.592776e+09</td>\n",
       "      <td>13.306330</td>\n",
       "    </tr>\n",
       "    <tr>\n",
       "      <th>14906</th>\n",
       "      <td>1273774320519483392</td>\n",
       "      <td>2020-06-19 00:27:18+00:00</td>\n",
       "      <td>This is Oakley. He’s on his way home for the f...</td>\n",
       "      <td>12.0</td>\n",
       "      <td>1.592526e+09</td>\n",
       "      <td>13.302583</td>\n",
       "    </tr>\n",
       "    <tr>\n",
       "      <th>14917</th>\n",
       "      <td>1273345579829977088</td>\n",
       "      <td>2020-06-17 20:03:38+00:00</td>\n",
       "      <td>Not all superheroes wear capes, but this one d...</td>\n",
       "      <td>14.0</td>\n",
       "      <td>1.592424e+09</td>\n",
       "      <td>13.301050</td>\n",
       "    </tr>\n",
       "  </tbody>\n",
       "</table>\n",
       "<p>2116 rows × 6 columns</p>\n",
       "</div>"
      ],
      "text/plain": [
       "                        id                 created_at  \\\n",
       "2       994363623421153280        2018-05-09 23:48:56   \n",
       "7       993889039714578432        2018-05-08 16:23:07   \n",
       "8       993629544463642624        2018-05-07 23:11:58   \n",
       "24      992198572664860672        2018-05-04 00:25:48   \n",
       "30      991744041351090177        2018-05-02 18:19:39   \n",
       "...                    ...                        ...   \n",
       "14885  1275493485085245440  2020-06-23 18:18:39+00:00   \n",
       "14895  1275102054608855040  2020-06-22 16:23:14+00:00   \n",
       "14896  1274821722584125442  2020-06-21 21:49:18+00:00   \n",
       "14906  1273774320519483392  2020-06-19 00:27:18+00:00   \n",
       "14917  1273345579829977088  2020-06-17 20:03:38+00:00   \n",
       "\n",
       "                                                    text  rating  \\\n",
       "2      This is Louie. He has misplaced his Cheerio. W...    14.0   \n",
       "7      This is Manny. He hasn’t seen your croissant. ...    13.0   \n",
       "8      This is Libby. She leap. 14/10\\n(IG: libbythef...    14.0   \n",
       "24     This is Rosie. She thought Coachella was this ...    13.0   \n",
       "30     This is Riley. He’ll be your chauffeur this ev...    13.0   \n",
       "...                                                  ...     ...   \n",
       "14885  This is Ruth. She was spotted at a rally doing...    14.0   \n",
       "14895  This is Narcos. He is very angry with you. The...    13.0   \n",
       "14896  @PatrickKenneyMD omg i’d say 13/10 but i’d hat...    13.0   \n",
       "14906  This is Oakley. He’s on his way home for the f...    12.0   \n",
       "14917  Not all superheroes wear capes, but this one d...    14.0   \n",
       "\n",
       "          timestamp  prediction  \n",
       "2      1.525935e+09   12.303514  \n",
       "7      1.525822e+09   12.301817  \n",
       "8      1.525760e+09   12.300888  \n",
       "24     1.525419e+09   12.295770  \n",
       "30     1.525310e+09   12.294144  \n",
       "...             ...         ...  \n",
       "14885  1.592936e+09   13.308733  \n",
       "14895  1.592843e+09   13.307333  \n",
       "14896  1.592776e+09   13.306330  \n",
       "14906  1.592526e+09   13.302583  \n",
       "14917  1.592424e+09   13.301050  \n",
       "\n",
       "[2116 rows x 6 columns]"
      ]
     },
     "execution_count": 24,
     "metadata": {},
     "output_type": "execute_result"
    }
   ],
   "source": [
    "dataWithRatings"
   ]
  },
  {
   "cell_type": "code",
   "execution_count": 25,
   "id": "11bf956c",
   "metadata": {},
   "outputs": [
    {
     "data": {
      "text/plain": [
       "(1.500295334373572e-08, -10.590016533606484)"
      ]
     },
     "execution_count": 25,
     "metadata": {},
     "output_type": "execute_result"
    }
   ],
   "source": [
    "model.slope, model.intercept"
   ]
  },
  {
   "cell_type": "code",
   "execution_count": 26,
   "id": "a129fc11",
   "metadata": {},
   "outputs": [
    {
     "data": {
      "image/png": "[encoded data removed]",
      "text/plain": [
       "<Figure size 864x504 with 1 Axes>"
      ]
     },
     "metadata": {
      "needs_background": "light"
     },
     "output_type": "display_data"
    }
   ],
   "source": [
    "plt.figure(figsize=(12,7))\n",
    "plt.plot(dataWithRatings['created_at'], dataWithRatings['rating'], 'b.', label='Ratings', alpha=0.5)\n",
    "plt.plot(dataWithRatings['created_at'], prediction, 'r-', linewidth=3, label = \"Trend\")\n",
    "plt.xticks(rotation=25)\n",
    "plt.xlabel(\"Date of Rating\", size = 'x-large')\n",
    "plt.ylabel(\"Rating out of 10\", size = 'x-large')\n",
    "plt.title(\"WeRateDogs dog ratings, Jan 2016 - Jun 2019\", size = 'x-large')\n",
    "plt.axhline(y=10, color='black', linestyle='--', linewidth = 2)\n",
    "plt.legend()\n",
    "plt.show()"
   ]
  },
  {
   "cell_type": "code",
   "execution_count": 45,
   "id": "f2f9bc2b",
   "metadata": {},
   "outputs": [
    {
     "name": "stdout",
     "output_type": "stream",
     "text": [
      "p value: 2.54e-127\n"
     ]
    }
   ],
   "source": [
    "print(f'p value: {model.pvalue:.3}')"
   ]
  },
  {
   "cell_type": "code",
   "execution_count": 46,
   "id": "440669e2",
   "metadata": {},
   "outputs": [
    {
     "data": {
      "text/plain": [
       "Text(0.5, 0, 'residuals')"
      ]
     },
     "execution_count": 46,
     "metadata": {},
     "output_type": "execute_result"
    },
    {
     "data": {
      "image/png": "[encoded data removed]",
      "text/plain": [
       "<Figure size 432x288 with 1 Axes>"
      ]
     },
     "metadata": {
      "needs_background": "light"
     },
     "output_type": "display_data"
    }
   ],
   "source": [
    "dataWithRatings['residual'] = dataWithRatings['rating'] - dataWithRatings['prediction']\n",
    "dataWithRatings['residual'].hist(bins='auto')\n",
    "plt.xlabel('residuals')"
   ]
  },
  {
   "cell_type": "code",
   "execution_count": 38,
   "id": "dcbb48c1",
   "metadata": {},
   "outputs": [
    {
     "data": {
      "text/plain": [
       "0.4884847815406983"
      ]
     },
     "execution_count": 38,
     "metadata": {},
     "output_type": "execute_result"
    }
   ],
   "source": [
    "model.rvalue"
   ]
  },
  {
   "cell_type": "code",
   "execution_count": 48,
   "id": "d4c0cf75",
   "metadata": {},
   "outputs": [
    {
     "data": {
      "text/plain": [
       "2.536058725136892e-127"
      ]
     },
     "execution_count": 48,
     "metadata": {},
     "output_type": "execute_result"
    }
   ],
   "source": [
    "model.pvalue"
   ]
  },
  {
   "cell_type": "code",
   "execution_count": null,
   "id": "4e9b3890",
   "metadata": {},
   "outputs": [],
   "source": []
  }
 ],
 "metadata": {
  "kernelspec": {
   "display_name": "Python 3",
   "language": "python",
   "name": "python3"
  },
  "language_info": {
   "codemirror_mode": {
    "name": "ipython",
    "version": 3
   },
   "file_extension": ".py",
   "mimetype": "text/x-python",
   "name": "python",
   "nbconvert_exporter": "python",
   "pygments_lexer": "ipython3",
   "version": "3.9.12"
  },
  "toc": {
   "base_numbering": 1,
   "nav_menu": {},
   "number_sections": true,
   "sideBar": true,
   "skip_h1_title": false,
   "title_cell": "Table of Contents",
   "title_sidebar": "Contents",
   "toc_cell": false,
   "toc_position": {},
   "toc_section_display": true,
   "toc_window_display": false
  },
  "varInspector": {
   "cols": {
    "lenName": 16,
    "lenType": 16,
    "lenVar": 40
   },
   "kernels_config": {
    "python": {
     "delete_cmd_postfix": "",
     "delete_cmd_prefix": "del ",
     "library": "var_list.py",
     "varRefreshCmd": "print(var_dic_list())"
    },
    "r": {
     "delete_cmd_postfix": ") ",
     "delete_cmd_prefix": "rm(",
     "library": "var_list.r",
     "varRefreshCmd": "cat(var_dic_list()) "
    }
   },
   "types_to_exclude": [
    "module",
    "function",
    "builtin_function_or_method",
    "instance",
    "_Feature"
   ],
   "window_display": false
  }
 },
 "nbformat": 4,
 "nbformat_minor": 5
}
